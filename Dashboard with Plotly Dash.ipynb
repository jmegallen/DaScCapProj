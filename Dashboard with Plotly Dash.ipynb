{
    "cells": [
        {
            "cell_type": "markdown",
            "metadata": {},
            "source": "<center>\n    <img src=\"https://cf-courses-data.s3.us.cloud-object-storage.appdomain.cloud/IBMDeveloperSkillsNetwork-DV0101EN-SkillsNetwork/labs/Module%204/logo.png\" width=\"300\" alt=\"cognitiveclass.ai logo\" />\n</center>\n"
        },
        {
            "cell_type": "markdown",
            "metadata": {},
            "source": "# Build a Dashboard Application with Plotly Dash"
        },
        {
            "cell_type": "markdown",
            "metadata": {},
            "source": "In this lab, you will be building a Plotly Dash application for users to perform interactive visual analytics on SpaceX launch data in real-time.\n\nThis dashboard application contains input components such as a dropdown list and a range slider to interact with a pie chart and a scatter point chart. You will be guided to build this dashboard application via the following tasks:\n\nTASK 1: Add a Launch Site Drop-down Input Component\nTASK 2: Add a callback function to render success-pie-chart based on selected site dropdown\nTASK 3: Add a Range Slider to Select Payload\nTASK 4: Add a callback function to render the success-payload-scatter-chart scatter plot\nNote:Please take screenshots of the Dashboard and save them. Further upload your notebook to github.\n\nThe github url and the screenshots are later required in the presentation slides.\n\nYour completed dashboard application should look like the following screenshot\n"
        },
        {
            "cell_type": "code",
            "execution_count": 1,
            "metadata": {},
            "outputs": [
                {
                    "name": "stdout",
                    "output_type": "stream",
                    "text": "Requirement already satisfied: pandas in /opt/conda/envs/Python-3.9/lib/python3.9/site-packages (1.3.4)\nRequirement already satisfied: dash in /opt/conda/envs/Python-3.9/lib/python3.9/site-packages (2.6.1)\nRequirement already satisfied: python-dateutil>=2.7.3 in /opt/conda/envs/Python-3.9/lib/python3.9/site-packages (from pandas) (2.8.2)\nRequirement already satisfied: pytz>=2017.3 in /opt/conda/envs/Python-3.9/lib/python3.9/site-packages (from pandas) (2021.3)\nRequirement already satisfied: numpy>=1.17.3 in /opt/conda/envs/Python-3.9/lib/python3.9/site-packages (from pandas) (1.20.3)\nRequirement already satisfied: flask-compress in /opt/conda/envs/Python-3.9/lib/python3.9/site-packages (from dash) (1.13)\nRequirement already satisfied: plotly>=5.0.0 in /opt/conda/envs/Python-3.9/lib/python3.9/site-packages (from dash) (5.1.0)\nRequirement already satisfied: Flask>=1.0.4 in /opt/conda/envs/Python-3.9/lib/python3.9/site-packages (from dash) (2.2.2)\nRequirement already satisfied: dash-core-components==2.0.0 in /opt/conda/envs/Python-3.9/lib/python3.9/site-packages (from dash) (2.0.0)\nRequirement already satisfied: dash-html-components==2.0.0 in /opt/conda/envs/Python-3.9/lib/python3.9/site-packages (from dash) (2.0.0)\nRequirement already satisfied: dash-table==5.0.0 in /opt/conda/envs/Python-3.9/lib/python3.9/site-packages (from dash) (5.0.0)\nRequirement already satisfied: click>=8.0 in /opt/conda/envs/Python-3.9/lib/python3.9/site-packages (from Flask>=1.0.4->dash) (8.0.4)\nRequirement already satisfied: Jinja2>=3.0 in /opt/conda/envs/Python-3.9/lib/python3.9/site-packages (from Flask>=1.0.4->dash) (3.0.2)\nRequirement already satisfied: itsdangerous>=2.0 in /opt/conda/envs/Python-3.9/lib/python3.9/site-packages (from Flask>=1.0.4->dash) (2.1.2)\nRequirement already satisfied: Werkzeug>=2.2.2 in /opt/conda/envs/Python-3.9/lib/python3.9/site-packages (from Flask>=1.0.4->dash) (2.2.2)\nRequirement already satisfied: importlib-metadata>=3.6.0 in /opt/conda/envs/Python-3.9/lib/python3.9/site-packages (from Flask>=1.0.4->dash) (4.8.2)\nRequirement already satisfied: zipp>=0.5 in /opt/conda/envs/Python-3.9/lib/python3.9/site-packages (from importlib-metadata>=3.6.0->Flask>=1.0.4->dash) (3.6.0)\nRequirement already satisfied: MarkupSafe>=2.0 in /opt/conda/envs/Python-3.9/lib/python3.9/site-packages (from Jinja2>=3.0->Flask>=1.0.4->dash) (2.1.1)\nRequirement already satisfied: tenacity>=6.2.0 in /opt/conda/envs/Python-3.9/lib/python3.9/site-packages (from plotly>=5.0.0->dash) (8.0.1)\nRequirement already satisfied: six in /opt/conda/envs/Python-3.9/lib/python3.9/site-packages (from plotly>=5.0.0->dash) (1.15.0)\nRequirement already satisfied: brotli in /opt/conda/envs/Python-3.9/lib/python3.9/site-packages (from flask-compress->dash) (1.0.9)\n"
                }
            ],
            "source": "!pip3 install pandas dash"
        },
        {
            "cell_type": "code",
            "execution_count": 2,
            "metadata": {},
            "outputs": [
                {
                    "name": "stderr",
                    "output_type": "stream",
                    "text": "/tmp/wsuser/ipykernel_547/1855361594.py:3: UserWarning: \nThe dash_html_components package is deprecated. Please replace\n`import dash_html_components as html` with `from dash import html`\n  import dash_html_components as html\n/tmp/wsuser/ipykernel_547/1855361594.py:4: UserWarning: \nThe dash_core_components package is deprecated. Please replace\n`import dash_core_components as dcc` with `from dash import dcc`\n  import dash_core_components as dcc\n"
                }
            ],
            "source": "import pandas as pd\nimport dash\nimport dash_html_components as html\nimport dash_core_components as dcc\nfrom dash.dependencies import Input, Output\nimport plotly.express as px"
        },
        {
            "cell_type": "code",
            "execution_count": 3,
            "metadata": {},
            "outputs": [
                {
                    "name": "stdout",
                    "output_type": "stream",
                    "text": "100% [............................................................] 2476 / 2476\r\nSaved under spacex_launch_dash (6).csv\r\n"
                }
            ],
            "source": "!python -m wget \"https://cf-courses-data.s3.us.cloud-object-storage.appdomain.cloud/IBM-DS0321EN-SkillsNetwork/datasets/spacex_launch_dash.csv\""
        },
        {
            "cell_type": "markdown",
            "metadata": {},
            "source": "# Read Data\n"
        },
        {
            "cell_type": "code",
            "execution_count": 4,
            "metadata": {},
            "outputs": [],
            "source": "# Read the airline data into pandas dataframe\nspacex_df = pd.read_csv(\"spacex_launch_dash.csv\")\nmax_payload = spacex_df['Payload Mass (kg)'].max()\nmin_payload = spacex_df['Payload Mass (kg)'].min()"
        },
        {
            "cell_type": "code",
            "execution_count": 5,
            "metadata": {},
            "outputs": [],
            "source": "# Create a dash application\napp = dash.Dash(__name__)"
        },
        {
            "cell_type": "code",
            "execution_count": 6,
            "metadata": {},
            "outputs": [],
            "source": "# Create an app layout\napp.layout = html.Div(children=[html.H1('SpaceX Launch Records Dashboard',\n                                        style={'textAlign': 'center', 'color': '#503D36',\n                                               'font-size': 40}),\n# TASK 1: Add a dropdown list to enable Launch Site selection\n# The default select value is for ALL sites\ndcc.Dropdown(id='site-dropdown',\n             options=[\n                 {'label': 'All Sites', 'value': 'ALL'},\n                 {'label': 'CCAFS LC-40', 'value': 'CCAFS LC-40'},\n                 {'label': 'CCAFS SLC-40', 'value': 'CCAFS SLC-40'},\n                 {'label': 'KSC LC-39A', 'value': 'KSC LC-39A'},\n                 {'label': 'VAFB SLC-4E\t', 'value': 'VAFB SLC-4E'},\n\n             ],\n             value='ALL',\n             placeholder='Select a Launch Site here',\n             searchable=True\n             ),\nhtml.Br(),\n\n# TASK 2: Add a pie chart to show the total successful launches count for all sites\n# If a specific launch site was selected, show the Success vs. Failed counts for the site\nhtml.Div(dcc.Graph(id='success-pie-chart')),\nhtml.Br(),\n\nhtml.P(\"Payload range (Kg):\"),\n# TASK 3: Add a slider to select payload range\ndcc.RangeSlider(id='payload-slider',\n                min=0, max=10000, step=1000,\n                marks={0: '0',\n                       2500: '2500',\n                       5000: '5000',\n                       7500: '7500'},\n                value=[min_payload, max_payload]),\n\n# TASK 4: Add a scatter chart to show the correlation between payload and launch success\nhtml.Div(dcc.Graph(id='success-payload-scatter-chart')),\n])\n\n# TASK 2:\n# Add a callback function for `site-dropdown` as input, `success-pie-chart` as output\n@app.callback(Output(component_id='success-pie-chart', component_property='figure'),\n              Input(component_id='site-dropdown', component_property='value'))\ndef get_pie_chart(entered_site):\n    if entered_site == 'ALL':\n        df = spacex_df\n        fig = px.pie(df, values='class',\n        names='Launch Site',\n        title='Total Success Launches By Site')\n        return fig\n    else:\n        df = spacex_df[spacex_df['Launch Site'] == entered_site]\n        filtered_df = df.groupby('class').size().reset_index(name='class count')\n        fig = px.pie(filtered_df, values='class count',\n        names='class',\n        title='Total Success Launches By %s' % entered_site)\n        return fig\n\n# TASK 4:\n# Add a callback function for `site-dropdown` and `payload-slider` as inputs, `success-payload-scatter-chart` as output\n@app.callback(Output(component_id='success-payload-scatter-chart', component_property='figure'),\n              [Input(component_id='site-dropdown', component_property='value'),\n               Input(component_id=\"payload-slider\", component_property=\"value\")])\ndef get_scatter_plot(entered_site, slider_range):\n    low, high = slider_range\n    if entered_site == 'ALL':\n        df = spacex_df\n        mask = (df['Payload Mass (kg)'] > low) & (df['Payload Mass (kg)'] < high)\n        fig = px.scatter(df[mask], x=\"Payload Mass (kg)\", y=\"class\", \n                         color=\"Booster Version Category\",\n                         title='Correlation between Payload and Success for all Sites')\n        return fig\n    else:\n        df = spacex_df[spacex_df['Launch Site'] == entered_site]\n        mask = (df['Payload Mass (kg)'] > low) & (df['Payload Mass (kg)'] < high)\n        fig = px.scatter(df[mask], x=\"Payload Mass (kg)\", y=\"class\", \n                         color=\"Booster Version Category\",\n                         title='Correlation between Payload and Success for %s' % entered_site)\n        return fig"
        },
        {
            "cell_type": "code",
            "execution_count": null,
            "metadata": {},
            "outputs": [
                {
                    "name": "stdout",
                    "output_type": "stream",
                    "text": "Dash is running on http://127.0.0.1:8050/\n\n * Serving Flask app '__main__'\n * Debug mode: off\n"
                },
                {
                    "name": "stderr",
                    "output_type": "stream",
                    "text": "\u001b[31m\u001b[1mWARNING: This is a development server. Do not use it in a production deployment. Use a production WSGI server instead.\u001b[0m\n * Running on http://127.0.0.1:8050\n\u001b[33mPress CTRL+C to quit\u001b[0m\n"
                }
            ],
            "source": "# Run the app\nif __name__ == '__main__':\n    app.run_server()"
        },
        {
            "cell_type": "code",
            "execution_count": null,
            "metadata": {},
            "outputs": [],
            "source": "Which site has the largest successful launches? - KSC LC-39A\nWhich site has the highest launch success rate? - KSC LC-39A\nWhich payload range(s) has the highest launch success rate? - 2500-5000\nWhich payload range(s) has the lowest launch success rate? - 5000-7500\nWhich F9 Booster version (v1.0, v1.1, FT, B4, B5, etc.) has the highest\nlaunch success rate?- FT"
        },
        {
            "cell_type": "markdown",
            "metadata": {},
            "source": "## <h3 align=\"center\"> \u00a9 IBM Corporation 2020. All rights reserved. <h3/>\n"
        }
    ],
    "metadata": {
        "kernelspec": {
            "display_name": "Python 3.9",
            "language": "python",
            "name": "python3"
        },
        "language_info": {
            "codemirror_mode": {
                "name": "ipython",
                "version": 3
            },
            "file_extension": ".py",
            "mimetype": "text/x-python",
            "name": "python",
            "nbconvert_exporter": "python",
            "pygments_lexer": "ipython3",
            "version": "3.9.12"
        }
    },
    "nbformat": 4,
    "nbformat_minor": 4
}